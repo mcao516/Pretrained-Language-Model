{
 "cells": [
  {
   "cell_type": "code",
   "execution_count": 52,
   "id": "elect-preliminary",
   "metadata": {},
   "outputs": [],
   "source": [
    "import json\n",
    "import numpy as np\n",
    "import torch\n",
    "import torch.nn.functional as F\n",
    "\n",
    "from tqdm import tqdm\n",
    "from torch.utils.data import (DataLoader, RandomSampler, SequentialSampler,\n",
    "                              TensorDataset)\n",
    "from transformers import BertTokenizer, BertModel"
   ]
  },
  {
   "cell_type": "code",
   "execution_count": 53,
   "id": "micro-permit",
   "metadata": {},
   "outputs": [],
   "source": [
    "from task_distill import (\n",
    "    ColaProcessor,\n",
    "    MnliProcessor,\n",
    "    MnliMismatchedProcessor,\n",
    "    MrpcProcessor,\n",
    "    Sst2Processor,\n",
    "    StsbProcessor,\n",
    "    QqpProcessor,\n",
    "    QnliProcessor,\n",
    "    RteProcessor,\n",
    "    WnliProcessor,\n",
    ")\n",
    "from task_distill import convert_examples_to_features, get_tensor_data"
   ]
  },
  {
   "cell_type": "code",
   "execution_count": 54,
   "id": "acting-blowing",
   "metadata": {},
   "outputs": [],
   "source": [
    "processors = {\n",
    "    \"cola\": ColaProcessor,\n",
    "    \"mnli\": MnliProcessor,\n",
    "    \"mnli-mm\": MnliMismatchedProcessor,\n",
    "    \"mrpc\": MrpcProcessor,\n",
    "    \"sst-2\": Sst2Processor,\n",
    "    \"sts-b\": StsbProcessor,\n",
    "    \"qqp\": QqpProcessor,\n",
    "    \"qnli\": QnliProcessor,\n",
    "    \"rte\": RteProcessor,\n",
    "    \"wnli\": WnliProcessor\n",
    "}"
   ]
  },
  {
   "cell_type": "code",
   "execution_count": 55,
   "id": "manual-productivity",
   "metadata": {},
   "outputs": [],
   "source": [
    "output_modes = {\n",
    "    \"cola\": \"classification\",\n",
    "    \"mnli\": \"classification\",\n",
    "    \"mnli-mm\": \"classification\",\n",
    "    \"mrpc\": \"classification\",\n",
    "    \"sst-2\": \"classification\",\n",
    "    \"sts-b\": \"regression\",\n",
    "    \"qqp\": \"classification\",\n",
    "    \"qnli\": \"classification\",\n",
    "    \"rte\": \"classification\",\n",
    "    \"wnli\": \"classification\"\n",
    "}"
   ]
  },
  {
   "cell_type": "markdown",
   "id": "square-wright",
   "metadata": {},
   "source": [
    "#### Load Dataset"
   ]
  },
  {
   "cell_type": "code",
   "execution_count": 99,
   "id": "cathedral-pencil",
   "metadata": {},
   "outputs": [],
   "source": [
    "task_name = 'sst-2'\n",
    "processor = processors[task_name]()\n",
    "output_mode = output_modes[task_name]\n",
    "label_list = processor.get_labels()\n",
    "num_labels = len(label_list)\n",
    "teacher_model_path = 'bert-base-uncased'\n",
    "teacher_model_path = \"princeton-nlp/unsup-simcse-bert-base-uncased\""
   ]
  },
  {
   "cell_type": "code",
   "execution_count": 100,
   "id": "cleared-battlefield",
   "metadata": {},
   "outputs": [],
   "source": [
    "data_dir = '/home/mcao610/scratch/glue_data/{}'.format(task_name.upper())"
   ]
  },
  {
   "cell_type": "code",
   "execution_count": 101,
   "id": "absent-equilibrium",
   "metadata": {},
   "outputs": [
    {
     "name": "stdout",
     "output_type": "stream",
     "text": [
      "- train examples: 67349\n",
      "- dev examples: 872\n"
     ]
    }
   ],
   "source": [
    "examples = []\n",
    "train_examples = processor.get_train_examples(data_dir)\n",
    "dev_examples = processor.get_dev_examples(data_dir)\n",
    "print('- train examples: {}'.format(len(train_examples)))\n",
    "print('- dev examples: {}'.format(len(dev_examples)))\n",
    "examples.extend(train_examples)\n",
    "examples.extend(dev_examples)\n",
    "\n",
    "if task_name == 'mnli':\n",
    "    processor = processors['mnli-mm']()\n",
    "    dev_mismatched_examples = processor.get_dev_examples(data_dir)\n",
    "    print('- dev mismatched examples: {}'.format(len(dev_mismatched_examples)))\n",
    "    examples.extend(dev_mismatched_examples)"
   ]
  },
  {
   "cell_type": "code",
   "execution_count": 102,
   "id": "olympic-wellington",
   "metadata": {},
   "outputs": [
    {
     "data": {
      "text/plain": [
       "68221"
      ]
     },
     "execution_count": 102,
     "metadata": {},
     "output_type": "execute_result"
    }
   ],
   "source": [
    "len(examples)"
   ]
  },
  {
   "cell_type": "markdown",
   "id": "551ed294-091f-41a8-9db5-1de433594853",
   "metadata": {},
   "source": [
    "#### Convert Examples to Features"
   ]
  },
  {
   "cell_type": "code",
   "execution_count": 103,
   "id": "379b3f63-84bb-4537-903c-d107a7d9759b",
   "metadata": {},
   "outputs": [],
   "source": [
    "train_guids = []\n",
    "\n",
    "for e in examples:\n",
    "    train_guids.append(e.guid)"
   ]
  },
  {
   "cell_type": "code",
   "execution_count": 104,
   "id": "manual-strip",
   "metadata": {},
   "outputs": [],
   "source": [
    "tokenizer = BertTokenizer.from_pretrained(teacher_model_path, local_files_only=True)"
   ]
  },
  {
   "cell_type": "code",
   "execution_count": 105,
   "id": "suitable-texture",
   "metadata": {},
   "outputs": [
    {
     "name": "stdout",
     "output_type": "stream",
     "text": [
      "12/13 10:14:28 PM Writing example 0 of 68221\n",
      "12/13 10:14:28 PM *** Example ***\n",
      "12/13 10:14:28 PM guid: train-1\n",
      "12/13 10:14:28 PM tokens: [CLS] hide new secret ##ions from the parental units [SEP]\n",
      "12/13 10:14:28 PM input_ids: 101 5342 2047 3595 8496 2013 1996 18643 3197 102 0 0 0 0 0 0 0 0 0 0 0 0 0 0 0 0 0 0 0 0 0 0 0 0 0 0 0 0 0 0 0 0 0 0 0 0 0 0 0 0 0 0 0 0 0 0 0 0 0 0 0 0 0 0 0 0 0 0 0 0 0 0 0 0 0 0 0 0 0 0 0 0 0 0 0 0 0 0 0 0 0 0 0 0 0 0 0 0 0 0 0 0 0 0 0 0 0 0 0 0 0 0 0 0 0 0 0 0 0 0 0 0 0 0 0 0 0 0\n",
      "12/13 10:14:28 PM input_mask: 1 1 1 1 1 1 1 1 1 1 0 0 0 0 0 0 0 0 0 0 0 0 0 0 0 0 0 0 0 0 0 0 0 0 0 0 0 0 0 0 0 0 0 0 0 0 0 0 0 0 0 0 0 0 0 0 0 0 0 0 0 0 0 0 0 0 0 0 0 0 0 0 0 0 0 0 0 0 0 0 0 0 0 0 0 0 0 0 0 0 0 0 0 0 0 0 0 0 0 0 0 0 0 0 0 0 0 0 0 0 0 0 0 0 0 0 0 0 0 0 0 0 0 0 0 0 0 0\n",
      "12/13 10:14:28 PM segment_ids: 0 0 0 0 0 0 0 0 0 0 0 0 0 0 0 0 0 0 0 0 0 0 0 0 0 0 0 0 0 0 0 0 0 0 0 0 0 0 0 0 0 0 0 0 0 0 0 0 0 0 0 0 0 0 0 0 0 0 0 0 0 0 0 0 0 0 0 0 0 0 0 0 0 0 0 0 0 0 0 0 0 0 0 0 0 0 0 0 0 0 0 0 0 0 0 0 0 0 0 0 0 0 0 0 0 0 0 0 0 0 0 0 0 0 0 0 0 0 0 0 0 0 0 0 0 0 0 0\n",
      "12/13 10:14:28 PM label: 0\n",
      "12/13 10:14:28 PM label_id: 0\n",
      "12/13 10:14:31 PM Writing example 10000 of 68221\n",
      "12/13 10:14:33 PM Writing example 20000 of 68221\n",
      "12/13 10:14:35 PM Writing example 30000 of 68221\n",
      "12/13 10:14:38 PM Writing example 40000 of 68221\n",
      "12/13 10:14:40 PM Writing example 50000 of 68221\n",
      "12/13 10:14:42 PM Writing example 60000 of 68221\n"
     ]
    }
   ],
   "source": [
    "max_seq_length = 128\n",
    "train_features = convert_examples_to_features(examples, label_list, max_seq_length, tokenizer, output_mode)"
   ]
  },
  {
   "cell_type": "code",
   "execution_count": 106,
   "id": "operating-vietnamese",
   "metadata": {},
   "outputs": [
    {
     "name": "stdout",
     "output_type": "stream",
     "text": [
      "68221\n",
      "<task_distill.InputFeatures object at 0x2b14005ed8d0>\n"
     ]
    }
   ],
   "source": [
    "print(len(train_features))\n",
    "print(train_features[0])"
   ]
  },
  {
   "cell_type": "code",
   "execution_count": 107,
   "id": "overall-quantum",
   "metadata": {},
   "outputs": [],
   "source": [
    "train_data, all_label_ids = get_tensor_data(output_mode, train_features)"
   ]
  },
  {
   "cell_type": "code",
   "execution_count": 108,
   "id": "following-least",
   "metadata": {},
   "outputs": [
    {
     "data": {
      "text/plain": [
       "torch.utils.data.dataset.TensorDataset"
      ]
     },
     "execution_count": 108,
     "metadata": {},
     "output_type": "execute_result"
    }
   ],
   "source": [
    "type(train_data)"
   ]
  },
  {
   "cell_type": "code",
   "execution_count": 109,
   "id": "pursuant-russian",
   "metadata": {},
   "outputs": [
    {
     "data": {
      "text/plain": [
       "torch.Size([68221, 128])"
      ]
     },
     "execution_count": 109,
     "metadata": {},
     "output_type": "execute_result"
    }
   ],
   "source": [
    "train_data.tensors[0].shape"
   ]
  },
  {
   "cell_type": "code",
   "execution_count": 110,
   "id": "34099907-8522-44cf-8c97-dd959b3e45b1",
   "metadata": {},
   "outputs": [
    {
     "name": "stdout",
     "output_type": "stream",
     "text": [
      "torch.Size([68221])\n",
      "tensor([0, 0, 1, 0, 0, 0, 1, 1, 0, 1])\n"
     ]
    }
   ],
   "source": [
    "print(all_label_ids.shape)\n",
    "print(all_label_ids[:10])"
   ]
  },
  {
   "cell_type": "code",
   "execution_count": 111,
   "id": "indie-lottery",
   "metadata": {},
   "outputs": [],
   "source": [
    "train_dataloader = DataLoader(train_data, sampler=SequentialSampler(train_data), batch_size=32)"
   ]
  },
  {
   "cell_type": "markdown",
   "id": "alpha-airfare",
   "metadata": {},
   "source": [
    "#### Load Teacher Model"
   ]
  },
  {
   "cell_type": "code",
   "execution_count": 112,
   "id": "unsigned-candidate",
   "metadata": {},
   "outputs": [
    {
     "name": "stdout",
     "output_type": "stream",
     "text": [
      "- model loaded.\n"
     ]
    }
   ],
   "source": [
    "teacher_model = BertModel.from_pretrained(teacher_model_path, local_files_only=True)\n",
    "teacher_model.to('cuda')\n",
    "print('- model loaded.')"
   ]
  },
  {
   "cell_type": "code",
   "execution_count": 113,
   "id": "grave-adrian",
   "metadata": {},
   "outputs": [
    {
     "name": "stderr",
     "output_type": "stream",
     "text": [
      "Evaluating: 100%|██████████| 2132/2132 [02:22<00:00, 14.93it/s]\n"
     ]
    }
   ],
   "source": [
    "cls_features = []\n",
    "example_ids = []\n",
    "\n",
    "for batch_ in tqdm(train_dataloader, desc=\"Evaluating\"):\n",
    "    batch_ = tuple(t.to('cuda') for t in batch_)\n",
    "    with torch.no_grad():\n",
    "        input_ids, input_mask, segment_ids, label_ids, seq_lengths = batch_\n",
    "        pooled = teacher_model(input_ids, segment_ids, input_mask, return_dict=True).pooler_output\n",
    "        \n",
    "        cls_features.append(pooled)\n",
    "        example_ids.append(input_ids)"
   ]
  },
  {
   "cell_type": "code",
   "execution_count": 114,
   "id": "dependent-valley",
   "metadata": {},
   "outputs": [
    {
     "data": {
      "text/plain": [
       "2132"
      ]
     },
     "execution_count": 114,
     "metadata": {},
     "output_type": "execute_result"
    }
   ],
   "source": [
    "len(cls_features)"
   ]
  },
  {
   "cell_type": "code",
   "execution_count": 115,
   "id": "photographic-budapest",
   "metadata": {},
   "outputs": [
    {
     "data": {
      "text/plain": [
       "torch.Size([32, 768])"
      ]
     },
     "execution_count": 115,
     "metadata": {},
     "output_type": "execute_result"
    }
   ],
   "source": [
    "cls_features[0].shape"
   ]
  },
  {
   "cell_type": "code",
   "execution_count": 116,
   "id": "worse-screw",
   "metadata": {},
   "outputs": [],
   "source": [
    "cls_feature_vectors = torch.cat(cls_features, dim=0)"
   ]
  },
  {
   "cell_type": "code",
   "execution_count": 117,
   "id": "framed-basketball",
   "metadata": {},
   "outputs": [
    {
     "data": {
      "text/plain": [
       "torch.Size([68221, 768])"
      ]
     },
     "execution_count": 117,
     "metadata": {},
     "output_type": "execute_result"
    }
   ],
   "source": [
    "cls_feature_vectors.shape"
   ]
  },
  {
   "cell_type": "markdown",
   "id": "retained-fifteen",
   "metadata": {},
   "source": [
    "#### K-means"
   ]
  },
  {
   "cell_type": "code",
   "execution_count": 118,
   "id": "scheduled-syria",
   "metadata": {},
   "outputs": [],
   "source": [
    "%matplotlib inline"
   ]
  },
  {
   "cell_type": "code",
   "execution_count": 119,
   "id": "least-probe",
   "metadata": {},
   "outputs": [],
   "source": [
    "import numpy as np\n",
    "import matplotlib.pyplot as plt\n",
    "\n",
    "from sklearn.cluster import KMeans\n",
    "from sklearn.datasets import make_blobs"
   ]
  },
  {
   "cell_type": "code",
   "execution_count": 120,
   "id": "greenhouse-objective",
   "metadata": {},
   "outputs": [],
   "source": [
    "cls_feature_numpy = cls_feature_vectors.cpu().numpy()"
   ]
  },
  {
   "cell_type": "code",
   "execution_count": 121,
   "id": "1b227bf6-991f-4824-96fd-24ed694a70f1",
   "metadata": {},
   "outputs": [],
   "source": [
    "all_label_ids = all_label_ids.cpu().numpy()"
   ]
  },
  {
   "cell_type": "code",
   "execution_count": 122,
   "id": "outdoor-musician",
   "metadata": {},
   "outputs": [],
   "source": [
    "CLUSTER_NUMBER = 3\n",
    "kmeans = KMeans(n_clusters=CLUSTER_NUMBER, random_state=0).fit(cls_feature_numpy)"
   ]
  },
  {
   "cell_type": "code",
   "execution_count": 123,
   "id": "twenty-ideal",
   "metadata": {},
   "outputs": [],
   "source": [
    "cluster_centers = kmeans.cluster_centers_"
   ]
  },
  {
   "cell_type": "code",
   "execution_count": 124,
   "id": "double-china",
   "metadata": {},
   "outputs": [],
   "source": [
    "cluster_labels = kmeans.labels_"
   ]
  },
  {
   "cell_type": "code",
   "execution_count": 125,
   "id": "scientific-upgrade",
   "metadata": {},
   "outputs": [
    {
     "name": "stdout",
     "output_type": "stream",
     "text": [
      "(3, 768)\n",
      "(68221,)\n"
     ]
    }
   ],
   "source": [
    "print(cluster_centers.shape)\n",
    "print(cluster_labels.shape)"
   ]
  },
  {
   "cell_type": "code",
   "execution_count": 126,
   "id": "comparative-editing",
   "metadata": {},
   "outputs": [
    {
     "name": "stdout",
     "output_type": "stream",
     "text": [
      "(68221,)\n"
     ]
    },
    {
     "data": {
      "text/plain": [
       "array([0, 2, 2, 2, 2, 2, 1, 0, 0, 2], dtype=int32)"
      ]
     },
     "execution_count": 126,
     "metadata": {},
     "output_type": "execute_result"
    }
   ],
   "source": [
    "print(cluster_labels.shape)\n",
    "cluster_labels[:10]"
   ]
  },
  {
   "cell_type": "markdown",
   "id": "890c1f47-3a55-4f82-b05d-382d1956c2bd",
   "metadata": {},
   "source": [
    "#### Save Clustering IDs"
   ]
  },
  {
   "cell_type": "code",
   "execution_count": 127,
   "id": "1a41ba38-3958-4747-a985-e99b71938c93",
   "metadata": {},
   "outputs": [],
   "source": [
    "assert len(train_guids) == cluster_labels.shape[0]"
   ]
  },
  {
   "cell_type": "code",
   "execution_count": 128,
   "id": "00c0858b-e3d3-4bc6-8147-5effd3639f12",
   "metadata": {},
   "outputs": [],
   "source": [
    "cluster_map = {}\n",
    "\n",
    "# all_label_ids\n",
    "for guid, l in zip(train_guids, cluster_labels):\n",
    "    cluster_map[guid] = int(l)"
   ]
  },
  {
   "cell_type": "code",
   "execution_count": 129,
   "id": "d4f7968c-d730-4261-9ad7-df322c24be99",
   "metadata": {},
   "outputs": [],
   "source": [
    "# import json\n",
    "\n",
    "# with open('clusters/cluster_sst2_k{}.json'.format(CLUSTER_NUMBER), 'w') as fp:\n",
    "#     json.dump(cluster_map, fp)"
   ]
  },
  {
   "cell_type": "markdown",
   "id": "hazardous-diagnosis",
   "metadata": {},
   "source": [
    "#### Visualization"
   ]
  },
  {
   "cell_type": "code",
   "execution_count": 130,
   "id": "ordered-sleeve",
   "metadata": {},
   "outputs": [],
   "source": [
    "import random\n",
    "\n",
    "from sklearn.decomposition import PCA"
   ]
  },
  {
   "cell_type": "code",
   "execution_count": 131,
   "id": "spare-encoding",
   "metadata": {},
   "outputs": [],
   "source": [
    "def get_cmap(n, name='hsv'):\n",
    "    '''Returns a function that maps each index in 0, 1, ..., n-1 to a distinct \n",
    "    RGB color; the keyword argument name must be a standard mpl colormap name.'''\n",
    "    return plt.cm.get_cmap(name, n)"
   ]
  },
  {
   "cell_type": "code",
   "execution_count": 132,
   "id": "abstract-partition",
   "metadata": {},
   "outputs": [],
   "source": [
    "vis_data = cls_feature_numpy[:10000, :]\n",
    "vis_labels = cluster_labels[:10000]"
   ]
  },
  {
   "cell_type": "code",
   "execution_count": 133,
   "id": "liable-peninsula",
   "metadata": {},
   "outputs": [],
   "source": [
    "pca = PCA(n_components=2)\n",
    "pca_results = pca.fit_transform(vis_data)"
   ]
  },
  {
   "cell_type": "code",
   "execution_count": 134,
   "id": "sixth-forward",
   "metadata": {},
   "outputs": [
    {
     "data": {
      "text/plain": [
       "(10000, 2)"
      ]
     },
     "execution_count": 134,
     "metadata": {},
     "output_type": "execute_result"
    }
   ],
   "source": [
    "pca_results.shape"
   ]
  },
  {
   "cell_type": "code",
   "execution_count": 135,
   "id": "brief-sandwich",
   "metadata": {},
   "outputs": [
    {
     "data": {
      "image/png": "[encoded data removed]",
      "text/plain": [
       "<Figure size 432x288 with 1 Axes>"
      ]
     },
     "metadata": {},
     "output_type": "display_data"
    }
   ],
   "source": [
    "plt.figure(1)\n",
    "\n",
    "cmap = get_cmap(CLUSTER_NUMBER)\n",
    "\n",
    "for k in range(CLUSTER_NUMBER):\n",
    "    cluster_data = vis_labels == k\n",
    "    plt.scatter(pca_results[cluster_data, 0], pca_results[cluster_data, 1],\n",
    "                color=cmap(k), marker='.', s=10)\n",
    "\n",
    "# plt.scatter(cluster_centers[:, 0], cluster_centers[:, 1], c='black', s=50)\n",
    "plt.title(\"K-Means (K={})\".format(CLUSTER_NUMBER))\n",
    "plt.xticks([])\n",
    "plt.yticks([])\n",
    "plt.savefig('kmeans.png')\n",
    "plt.show()"
   ]
  },
  {
   "cell_type": "code",
   "execution_count": 136,
   "id": "0a926577-c896-47f4-bc60-6dba274fed1d",
   "metadata": {},
   "outputs": [],
   "source": [
    "vis_labels = all_label_ids[:10000]"
   ]
  },
  {
   "cell_type": "code",
   "execution_count": 137,
   "id": "4fe3cb90-41dd-458b-b56b-1fbd6cf77133",
   "metadata": {},
   "outputs": [
    {
     "data": {
      "image/png": "[encoded data removed]",
      "text/plain": [
       "<Figure size 432x288 with 1 Axes>"
      ]
     },
     "metadata": {},
     "output_type": "display_data"
    }
   ],
   "source": [
    "plt.figure(1)\n",
    "\n",
    "cmap = ['#4EACC5', '#FF9C34', '#4E9A06']\n",
    "\n",
    "for k in range(3):\n",
    "    cluster_data = vis_labels == k\n",
    "    plt.scatter(pca_results[cluster_data, 0], pca_results[cluster_data, 1],\n",
    "                color=cmap[k], marker='.', s=10)\n",
    "\n",
    "# plt.scatter(cluster_centers[:, 0], cluster_centers[:, 1], c='black', s=50)\n",
    "plt.title(\"K-Means (True Label)\")\n",
    "plt.xticks([])\n",
    "plt.yticks([])\n",
    "plt.savefig('ture_label.png')\n",
    "plt.show()"
   ]
  },
  {
   "cell_type": "code",
   "execution_count": 138,
   "id": "bca5aa46-1abc-4f38-9c3e-d9aaa5212da6",
   "metadata": {},
   "outputs": [],
   "source": [
    "# merge json\n",
    "# train_json = json.load(open('clusters/cluster_mnli_k3_train.json'))\n",
    "# dev_m_json = json.load(open('clusters/cluster_mnli_k3_dev_matched.json'))\n",
    "# dev_mm_json = json.load(open('clusters/cluster_mnli_k3_dev_mismatched.json'))\n",
    "\n",
    "# print(len(train_json))\n",
    "# print(len(dev_m_json))\n",
    "# print(len(dev_mm_json))"
   ]
  },
  {
   "cell_type": "code",
   "execution_count": 139,
   "id": "958d7d7f-33c8-499a-b0f8-94d5d4e82330",
   "metadata": {},
   "outputs": [],
   "source": [
    "# with open('clusters/cluster_mnli_k{}.json'.format(CLUSTER_NUMBER), 'w') as fp:\n",
    "#     json.dump({**train_json, **dev_m_json, **dev_mm_json}, fp)"
   ]
  },
  {
   "cell_type": "markdown",
   "id": "915ff9fb-154e-45a4-864a-28dbf4c4dffb",
   "metadata": {},
   "source": [
    "#### Vistualize simCSE"
   ]
  },
  {
   "cell_type": "code",
   "execution_count": 140,
   "id": "0e357d8c-e403-4c35-aba0-6d2f32f6364c",
   "metadata": {},
   "outputs": [],
   "source": [
    "import torch\n",
    "\n",
    "from scipy.spatial.distance import cosine\n",
    "from transformers import AutoModel, AutoTokenizer"
   ]
  },
  {
   "cell_type": "code",
   "execution_count": 141,
   "id": "890f084c-2269-4b41-bd76-815a2a84d48a",
   "metadata": {},
   "outputs": [
    {
     "name": "stdout",
     "output_type": "stream",
     "text": [
      "torch.Size([3, 768])\n"
     ]
    }
   ],
   "source": [
    "# Import our models. The package will take care of downloading the models automatically\n",
    "tokenizer = AutoTokenizer.from_pretrained(\"princeton-nlp/sup-simcse-bert-base-uncased\", local_files_only=True)\n",
    "model = AutoModel.from_pretrained(\"princeton-nlp/sup-simcse-bert-base-uncased\", local_files_only=True)\n",
    "\n",
    "# Tokenize input texts\n",
    "texts = [\n",
    "    \"There's a kid on a skateboard.\",\n",
    "    \"A kid is skateboarding.\",\n",
    "    \"A kid is inside the house.\"\n",
    "]\n",
    "inputs = tokenizer(texts, padding=True, truncation=True, return_tensors=\"pt\")\n",
    "\n",
    "# Get the embeddings\n",
    "with torch.no_grad():\n",
    "    embeddings = model(**inputs, output_hidden_states=True, return_dict=True).pooler_output\n",
    "\n",
    "print(embeddings.shape)"
   ]
  }
 ],
 "metadata": {
  "kernelspec": {
   "display_name": "Python 3 (ipykernel)",
   "language": "python",
   "name": "python3"
  },
  "language_info": {
   "codemirror_mode": {
    "name": "ipython",
    "version": 3
   },
   "file_extension": ".py",
   "mimetype": "text/x-python",
   "name": "python",
   "nbconvert_exporter": "python",
   "pygments_lexer": "ipython3",
   "version": "3.7.7"
  }
 },
 "nbformat": 4,
 "nbformat_minor": 5
}
